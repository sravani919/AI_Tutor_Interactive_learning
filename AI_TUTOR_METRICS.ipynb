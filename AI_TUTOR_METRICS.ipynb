{
  "nbformat": 4,
  "nbformat_minor": 0,
  "metadata": {
    "colab": {
      "provenance": [],
      "authorship_tag": "ABX9TyNKLd+9lxHO17rP1l74MPqU",
      "include_colab_link": true
    },
    "kernelspec": {
      "name": "python3",
      "display_name": "Python 3"
    },
    "language_info": {
      "name": "python"
    }
  },
  "cells": [
    {
      "cell_type": "markdown",
      "metadata": {
        "id": "view-in-github",
        "colab_type": "text"
      },
      "source": [
        "<a href=\"https://colab.research.google.com/github/sravani919/AI_Tutor_Interactive_learning/blob/main/AI_TUTOR_METRICS.ipynb\" target=\"_parent\"><img src=\"https://colab.research.google.com/assets/colab-badge.svg\" alt=\"Open In Colab\"/></a>"
      ]
    },
    {
      "cell_type": "code",
      "execution_count": 3,
      "metadata": {
        "colab": {
          "base_uri": "https://localhost:8080/"
        },
        "id": "1FDTt9iyAXRO",
        "outputId": "75e8a479-32d9-4931-988c-bb7ded2d08d2"
      },
      "outputs": [
        {
          "output_type": "stream",
          "name": "stdout",
          "text": [
            "\n",
            "### Participant Demographics\n",
            "\n",
            "| Metric                |   n |     % |\n",
            "|:----------------------|----:|------:|\n",
            "| Total respondents     |  29 | 100   |\n",
            "| Students              |  13 |  44.8 |\n",
            "| Working professionals |   9 |  31   |\n",
            "| Professional learners |   4 |  13.8 |\n",
            "| Researchers           |   2 |   6.9 |\n",
            "| Alumni                |   1 |   3.4 |\n",
            "| Google Colab          |  20 |  69   |\n",
            "| GitHub link           |   6 |  20.7 |\n",
            "| Browser (direct)      |   1 |   3.4 |\n",
            "| Instagram             |   1 |   3.4 |\n",
            "\n",
            "### Engagement & Ease-of-Use\n",
            "\n",
            "| 5-point item             |   Mean |   SD |   % ≥ 4 |\n",
            "|:-------------------------|-------:|-----:|--------:|\n",
            "| Overall experience       |   4.55 | 0.87 |    86.2 |\n",
            "| Interface ease of use    |   4.45 | 0.88 |    89.7 |\n",
            "| Walk-through clarity     |   4.55 | 0.8  |    89.7 |\n",
            "| Learning-mode engagement |   4.69 | 0.58 |    96.5 |\n",
            "| Content quality/clarity  |   4.62 | 0.57 |    96.5 |\n",
            "\n",
            "### Challenge Adoption\n",
            "\n",
            "| Challenge type    |   Tried (n) |   Tried (%) |   Most-Effective votes |\n",
            "|:------------------|------------:|------------:|-----------------------:|\n",
            "| MCQ quiz          |          20 |        69   |                      4 |\n",
            "| Fill-in-the-Blank |          16 |        55.2 |                      0 |\n",
            "| Flashcards        |          15 |        51.7 |                      6 |\n",
            "| Match-the-Answers |          12 |        41.4 |                      1 |\n",
            "| Timed questions   |          11 |        37.9 |                      0 |\n",
            "| Scenario-based    |          11 |        37.9 |                      3 |\n"
          ]
        }
      ],
      "source": [
        "import pandas as pd\n",
        "from textwrap import dedent\n",
        "\n",
        "# ── Demographics ───────────────────────────────────────────\n",
        "demog = pd.DataFrame([\n",
        "    [\"Total respondents\", 29, 100.0],\n",
        "    [\"Students\", 13, 44.8],\n",
        "    [\"Working professionals\", 9, 31.0],\n",
        "    [\"Professional learners\", 4, 13.8],\n",
        "    [\"Researchers\", 2, 6.9],\n",
        "    [\"Alumni\", 1, 3.4],\n",
        "    [\"Google Colab\", 20, 69.0],\n",
        "    [\"GitHub link\", 6, 20.7],\n",
        "    [\"Browser (direct)\", 1, 3.4],\n",
        "    [\"Instagram\", 1, 3.4],\n",
        "], columns=[\"Metric\", \"n\", \"%\"])\n",
        "\n",
        "# ── Engagement items ───────────────────────────────────────\n",
        "engage = pd.DataFrame([\n",
        "    [\"Overall experience\", 4.55, 0.87, 86.2],\n",
        "    [\"Interface ease of use\", 4.45, 0.88, 89.7],\n",
        "    [\"Walk-through clarity\", 4.55, 0.80, 89.7],\n",
        "    [\"Learning-mode engagement\", 4.69, 0.58, 96.5],\n",
        "    [\"Content quality/clarity\", 4.62, 0.57, 96.5],\n",
        "], columns=[\"5-point item\", \"Mean\", \"SD\", \"% ≥ 4\"])\n",
        "\n",
        "# ── Challenge adoption ─────────────────────────────────────\n",
        "challenge = pd.DataFrame([\n",
        "    [\"MCQ quiz\", 20, 69.0, 4],\n",
        "    [\"Fill-in-the-Blank\", 16, 55.2, 0],\n",
        "    [\"Flashcards\", 15, 51.7, 6],\n",
        "    [\"Match-the-Answers\", 12, 41.4, 1],\n",
        "    [\"Timed questions\", 11, 37.9, 0],\n",
        "    [\"Scenario-based\", 11, 37.9, 3],\n",
        "], columns=[\"Challenge type\", \"Tried (n)\", \"Tried (%)\", \"Most-Effective votes\"])\n",
        "\n",
        "# ── Print as Markdown tables (nice for README / Overleaf) ─\n",
        "for title, df in [(\"Participant Demographics\", demog),\n",
        "                  (\"Engagement & Ease-of-Use\", engage),\n",
        "                  (\"Challenge Adoption\", challenge)]:\n",
        "    print(f\"\\n### {title}\\n\")\n",
        "    print(df.to_markdown(index=False))\n"
      ]
    },
    {
      "cell_type": "code",
      "source": [
        "import pandas as pd\n",
        "\n",
        "# --- copy your dicts directly from the notebook ---\n",
        "xp_per_challenge = {\n",
        "    \" Flashcards (Flip)\": 5,\n",
        "    \" MCQ Quiz\": 10,\n",
        "    \" Fill in the Blank\": 10,\n",
        "    \" Match the Answers\": 12,\n",
        "    \" Timed Question\": 15,\n",
        "    \" Scenario-Based (Hint)\": 15\n",
        "}\n",
        "\n",
        "level_xp_thresholds = {\n",
        "    1: 50, 2: 75, 3: 100, 4: 125, 5: 150,\n",
        "    6: 175, 7: 200, 8: 225, 9: 250, 10: 275\n",
        "}\n",
        "\n",
        "# ---------- XP table ----------\n",
        "total = sum(xp_per_challenge.values())\n",
        "df_xp = pd.DataFrame([\n",
        "    {\n",
        "        \"Challenge Type\": k,\n",
        "        \"XP per Attempt\": v,\n",
        "        \"Share of Total XP (%)\": round(v / total * 100, 1)\n",
        "    }\n",
        "    for k, v in xp_per_challenge.items()\n",
        "])\n",
        "print(df_xp.to_markdown(index=False))\n",
        "\n",
        "# ---------- Level table ----------\n",
        "cum = 0\n",
        "rows = []\n",
        "for lvl in sorted(level_xp_thresholds):\n",
        "    inc = level_xp_thresholds[lvl]\n",
        "    cum += inc\n",
        "    rows.append({\"Level\": f\"{lvl} → {lvl+1}\",\n",
        "                 \"XP to Next\": inc,\n",
        "                 \"Cumulative XP\": cum})\n",
        "df_lvl = pd.DataFrame(rows)\n",
        "print(\"\\n\", df_lvl.to_markdown(index=False))\n"
      ],
      "metadata": {
        "colab": {
          "base_uri": "https://localhost:8080/"
        },
        "id": "vTerBPtMB22i",
        "outputId": "3a43e855-6f30-4200-f06a-3619334f49d1"
      },
      "execution_count": 4,
      "outputs": [
        {
          "output_type": "stream",
          "name": "stdout",
          "text": [
            "| Challenge Type        |   XP per Attempt |   Share of Total XP (%) |\n",
            "|:----------------------|-----------------:|------------------------:|\n",
            "| Flashcards (Flip)     |                5 |                     7.5 |\n",
            "| MCQ Quiz              |               10 |                    14.9 |\n",
            "| Fill in the Blank     |               10 |                    14.9 |\n",
            "| Match the Answers     |               12 |                    17.9 |\n",
            "| Timed Question        |               15 |                    22.4 |\n",
            "| Scenario-Based (Hint) |               15 |                    22.4 |\n",
            "\n",
            " | Level   |   XP to Next |   Cumulative XP |\n",
            "|:--------|-------------:|----------------:|\n",
            "| 1 → 2   |           50 |              50 |\n",
            "| 2 → 3   |           75 |             125 |\n",
            "| 3 → 4   |          100 |             225 |\n",
            "| 4 → 5   |          125 |             350 |\n",
            "| 5 → 6   |          150 |             500 |\n",
            "| 6 → 7   |          175 |             675 |\n",
            "| 7 → 8   |          200 |             875 |\n",
            "| 8 → 9   |          225 |            1100 |\n",
            "| 9 → 10  |          250 |            1350 |\n",
            "| 10 → 11 |          275 |            1625 |\n"
          ]
        }
      ]
    }
  ]
}